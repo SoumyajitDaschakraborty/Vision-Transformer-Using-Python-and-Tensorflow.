{
 "cells": [
  {
   "cell_type": "code",
   "execution_count": 1,
   "metadata": {
    "ExecuteTime": {
     "end_time": "2024-04-10T11:13:55.811277Z",
     "start_time": "2024-04-10T11:13:51.759013Z"
    },
    "colab": {
     "base_uri": "https://localhost:8080/"
    },
    "id": "NmhkCJOWYxJo",
    "outputId": "cd329968-f58c-4372-abee-c749e0e1f62d"
   },
   "outputs": [
    {
     "name": "stdout",
     "output_type": "stream",
     "text": [
      "Requirement already satisfied: tensorflow_addons in c:\\users\\bonnie-pc\\appdata\\local\\programs\\python\\python311\\lib\\site-packages (0.22.0)\n",
      "Requirement already satisfied: typeguard<3.0.0,>=2.7 in c:\\users\\bonnie-pc\\appdata\\local\\programs\\python\\python311\\lib\\site-packages (from tensorflow_addons) (2.13.3)\n",
      "Requirement already satisfied: packaging in c:\\users\\bonnie-pc\\appdata\\local\\programs\\python\\python311\\lib\\site-packages (from tensorflow_addons) (23.1)\n"
     ]
    }
   ],
   "source": [
    "!pip install tensorflow_addons"
   ]
  },
  {
   "cell_type": "code",
   "execution_count": 2,
   "metadata": {
    "ExecuteTime": {
     "end_time": "2024-04-10T11:13:55.817341Z",
     "start_time": "2024-04-10T11:13:55.813284Z"
    },
    "colab": {
     "base_uri": "https://localhost:8080/"
    },
    "id": "yJ5fVaHrrfle",
    "outputId": "910dbe7f-61f4-482e-f696-6f08b793499a"
   },
   "outputs": [
    {
     "name": "stdout",
     "output_type": "stream",
     "text": [
      "WARNING:tensorflow:From C:\\Users\\BONNIE-PC\\AppData\\Local\\Programs\\Python\\Python311\\Lib\\site-packages\\keras\\src\\losses.py:2976: The name tf.losses.sparse_softmax_cross_entropy is deprecated. Please use tf.compat.v1.losses.sparse_softmax_cross_entropy instead.\n",
      "\n"
     ]
    },
    {
     "name": "stderr",
     "output_type": "stream",
     "text": [
      "C:\\Users\\BONNIE-PC\\AppData\\Local\\Programs\\Python\\Python311\\Lib\\site-packages\\tensorflow_addons\\utils\\tfa_eol_msg.py:23: UserWarning: \n",
      "\n",
      "TensorFlow Addons (TFA) has ended development and introduction of new features.\n",
      "TFA has entered a minimal maintenance and release mode until a planned end of life in May 2024.\n",
      "Please modify downstream libraries to take dependencies from other repositories in our TensorFlow community (e.g. Keras, Keras-CV, and Keras-NLP). \n",
      "\n",
      "For more information see: https://github.com/tensorflow/addons/issues/2807 \n",
      "\n",
      "  warnings.warn(\n",
      "C:\\Users\\BONNIE-PC\\AppData\\Local\\Programs\\Python\\Python311\\Lib\\site-packages\\tensorflow_addons\\utils\\ensure_tf_install.py:53: UserWarning: Tensorflow Addons supports using Python ops for all Tensorflow versions above or equal to 2.12.0 and strictly below 2.15.0 (nightly versions are not supported). \n",
      " The versions of TensorFlow you are currently using is 2.15.0 and is not supported. \n",
      "Some things might work, some things might not.\n",
      "If you were to encounter a bug, do not file an issue.\n",
      "If you want to make sure you're using a tested and supported configuration, either change the TensorFlow version or the TensorFlow Addons's version. \n",
      "You can find the compatibility matrix in TensorFlow Addon's readme:\n",
      "https://github.com/tensorflow/addons\n",
      "  warnings.warn(\n"
     ]
    }
   ],
   "source": [
    "import numpy as np\n",
    "import tensorflow as tf\n",
    "from tensorflow import keras\n",
    "from tensorflow.keras import layers\n",
    "import tensorflow_addons as tfa\n",
    "import matplotlib.pyplot as plt"
   ]
  },
  {
   "cell_type": "code",
   "execution_count": 3,
   "metadata": {
    "ExecuteTime": {
     "end_time": "2024-04-10T11:13:57.438773Z",
     "start_time": "2024-04-10T11:13:55.818355Z"
    },
    "colab": {
     "base_uri": "https://localhost:8080/"
    },
    "id": "c63gtR9vsixZ",
    "outputId": "42b5625f-47cd-4f41-c7e3-04f7b7aefa48"
   },
   "outputs": [
    {
     "name": "stdout",
     "output_type": "stream",
     "text": [
      "x_train shape: (50000, 32, 32, 3) - y_train shape: (50000, 1)\n",
      "x_test shape: (10000, 32, 32, 3) - y_test shape: (10000, 1)\n"
     ]
    }
   ],
   "source": [
    "num_classes = 10\n",
    "input_shape = (32, 32, 3)\n",
    "\n",
    "(x_train, y_train), (x_test, y_test) = keras.datasets.cifar10.load_data()\n",
    "\n",
    "print(f\"x_train shape: {x_train.shape} - y_train shape: {y_train.shape}\")\n",
    "print(f\"x_test shape: {x_test.shape} - y_test shape: {y_test.shape}\")"
   ]
  },
  {
   "cell_type": "code",
   "execution_count": 4,
   "metadata": {
    "ExecuteTime": {
     "end_time": "2024-04-10T11:13:57.447562Z",
     "start_time": "2024-04-10T11:13:57.440792Z"
    },
    "id": "ArcoXbLvuul6"
   },
   "outputs": [],
   "source": [
    "learning_rate = 0.001\n",
    "weight_decay = 0.0001\n",
    "batch_size = 256\n",
    "num_epochs = 20\n",
    "image_size = 72\n",
    "patch_size = 6\n",
    "num_patches = (image_size // patch_size) ** 2\n",
    "projection_dim = 64\n",
    "num_heads = 4\n",
    "transformer_units = [projection_dim * 2, projection_dim]\n",
    "transformer_layers = 4\n",
    "mlp_head_units = [2048, 1024]"
   ]
  },
  {
   "cell_type": "code",
   "execution_count": 5,
   "metadata": {
    "ExecuteTime": {
     "end_time": "2024-04-10T11:14:01.690892Z",
     "start_time": "2024-04-10T11:13:57.449095Z"
    },
    "id": "bIstfWhBxqrD"
   },
   "outputs": [
    {
     "name": "stdout",
     "output_type": "stream",
     "text": [
      "WARNING:tensorflow:From C:\\Users\\BONNIE-PC\\AppData\\Local\\Programs\\Python\\Python311\\Lib\\site-packages\\keras\\src\\backend.py:873: The name tf.get_default_graph is deprecated. Please use tf.compat.v1.get_default_graph instead.\n",
      "\n"
     ]
    }
   ],
   "source": [
    "data_augmentation = keras.Sequential(\n",
    "    [\n",
    "      layers.Normalization(),\n",
    "      layers.Resizing(image_size, image_size),\n",
    "      layers.RandomFlip(\"horizontal\"),\n",
    "      layers.RandomRotation(factor=0.02),\n",
    "      layers.RandomZoom(height_factor = 0.2, width_factor = 0.2)\n",
    "    ],\n",
    "    name = \"data_augmentation\"\n",
    ")\n",
    "data_augmentation.layers[0].adapt(x_train)"
   ]
  },
  {
   "cell_type": "code",
   "execution_count": 6,
   "metadata": {
    "ExecuteTime": {
     "end_time": "2024-04-10T11:14:01.696602Z",
     "start_time": "2024-04-10T11:14:01.691907Z"
    },
    "id": "NUSDI3HBzC2C"
   },
   "outputs": [],
   "source": [
    "def mlp(x, hidden_units, dropout_rate):\n",
    "  for units in hidden_units:\n",
    "    x = layers.Dense(units, activation = tf.nn.gelu)(x)\n",
    "    x = layers.Dropout(dropout_rate)(x)\n",
    "  return x"
   ]
  },
  {
   "cell_type": "code",
   "execution_count": 7,
   "metadata": {
    "ExecuteTime": {
     "end_time": "2024-04-10T11:14:01.705230Z",
     "start_time": "2024-04-10T11:14:01.697611Z"
    },
    "id": "RKrkg0_pz_lR"
   },
   "outputs": [],
   "source": [
    "class Patches(layers.Layer):\n",
    "    def __init__(self, patch_size):\n",
    "        super(Patches, self).__init__()\n",
    "        self.patch_size = patch_size\n",
    "\n",
    "    def call(self, images):\n",
    "        batch_size = tf.shape(images)[0]\n",
    "        patches = tf.image.extract_patches(\n",
    "            images=images,\n",
    "            sizes=[1, self.patch_size, self.patch_size, 1],\n",
    "            strides=[1, self.patch_size, self.patch_size, 1],\n",
    "            rates=[1, 1, 1, 1],\n",
    "            padding=\"VALID\",\n",
    "        )\n",
    "        patch_dims = patches.shape[-1]\n",
    "        patches = tf.reshape(patches, [batch_size, -1, patch_dims])\n",
    "        return patches"
   ]
  },
  {
   "cell_type": "code",
   "execution_count": 8,
   "metadata": {
    "ExecuteTime": {
     "end_time": "2024-04-10T11:14:04.325142Z",
     "start_time": "2024-04-10T11:14:01.707238Z"
    },
    "colab": {
     "base_uri": "https://localhost:8080/",
     "height": 742
    },
    "id": "DUi5FZUX0hYS",
    "outputId": "f3c6c510-8dd9-4bc7-8e98-bbc9832e61d1"
   },
   "outputs": [
    {
     "name": "stdout",
     "output_type": "stream",
     "text": [
      "Image size: 72 X 72\n",
      "Patch size: 6 X 6\n",
      "Patches per image: 144\n",
      "Elements per patch: 108\n"
     ]
    },
    {
     "data": {
      "image/png": "[encoded data removed]",
      "text/plain": [
       "<Figure size 400x400 with 1 Axes>"
      ]
     },
     "metadata": {},
     "output_type": "display_data"
    },
    {
     "data": {
      "image/png": "[encoded data removed]",
      "text/plain": [
       "<Figure size 400x400 with 144 Axes>"
      ]
     },
     "metadata": {},
     "output_type": "display_data"
    }
   ],
   "source": [
    "plt.figure(figsize=(4, 4))\n",
    "image = x_train[np.random.choice(range(x_train.shape[0]))]\n",
    "plt.imshow(image.astype(\"uint8\"))\n",
    "plt.axis(\"off\")\n",
    "\n",
    "resized_image = tf.image.resize(\n",
    "    tf.convert_to_tensor([image]), size=(image_size, image_size)\n",
    ")\n",
    "patches = Patches(patch_size)(resized_image)\n",
    "print(f\"Image size: {image_size} X {image_size}\")\n",
    "print(f\"Patch size: {patch_size} X {patch_size}\")\n",
    "print(f\"Patches per image: {patches.shape[1]}\")\n",
    "print(f\"Elements per patch: {patches.shape[-1]}\")\n",
    "\n",
    "n = int(np.sqrt(patches.shape[1]))\n",
    "plt.figure(figsize=(4, 4))\n",
    "for i, patch in enumerate(patches[0]):\n",
    "    ax = plt.subplot(n, n, i + 1)\n",
    "    patch_img = tf.reshape(patch, (patch_size, patch_size, 3))\n",
    "    plt.imshow(patch_img.numpy().astype(\"uint8\"))\n",
    "    plt.axis(\"off\")"
   ]
  },
  {
   "cell_type": "code",
   "execution_count": 9,
   "metadata": {
    "ExecuteTime": {
     "end_time": "2024-04-10T11:14:04.333180Z",
     "start_time": "2024-04-10T11:14:04.326149Z"
    },
    "id": "S7JDOtpTaxAc"
   },
   "outputs": [],
   "source": [
    "class PatchEncoder(layers.Layer):\n",
    "    def __init__(self, num_patches, projection_dim):\n",
    "        super(PatchEncoder, self).__init__()\n",
    "        self.num_patches = num_patches\n",
    "        self.projection = layers.Dense(units=projection_dim)\n",
    "        self.position_embedding = layers.Embedding(\n",
    "            input_dim=num_patches, output_dim=projection_dim\n",
    "        )\n",
    "\n",
    "    def call(self, patches):\n",
    "        positions = tf.range(start=0, limit=self.num_patches, delta=1)\n",
    "        encoded = self.projection(patches) + self.position_embedding(positions)\n",
    "        return encoded"
   ]
  },
  {
   "cell_type": "code",
   "execution_count": 10,
   "metadata": {
    "ExecuteTime": {
     "end_time": "2024-04-10T11:14:04.347062Z",
     "start_time": "2024-04-10T11:14:04.337759Z"
    },
    "id": "Dsf2A51tbFmJ"
   },
   "outputs": [],
   "source": [
    "def create_vit_classifier():\n",
    "    inputs = layers.Input(shape=input_shape)\n",
    "    # Augment data.\n",
    "    augmented = data_augmentation(inputs)\n",
    "    # Create patches.\n",
    "    patches = Patches(patch_size)(augmented)\n",
    "    # Encode patches.\n",
    "    encoded_patches = PatchEncoder(num_patches, projection_dim)(patches)\n",
    "    # Create multiple layers of the Transformer block.\n",
    "    for _ in range(transformer_layers):\n",
    "        # Layer normalization 1.\n",
    "        x1 = layers.LayerNormalization(epsilon=1e-6)(encoded_patches)\n",
    "        # Create a multi-head self-attention mechanism.\n",
    "        attention_output = layers.MultiHeadAttention(\n",
    "            num_heads=num_heads, key_dim=projection_dim, dropout=0.1\n",
    "        )(x1, x1)\n",
    "        # Skip connection 1.\n",
    "        x2 = layers.Add()([attention_output, encoded_patches])\n",
    "        # Layer normalization 2.\n",
    "        x3 = layers.LayerNormalization(epsilon=1e-6)(x2)\n",
    "        # MLP.\n",
    "        x4 = mlp(x3, hidden_units=transformer_units, dropout_rate=0.1)\n",
    "        # Skip connection 2.\n",
    "        encoded_patches = layers.Add()([x4, x2])\n",
    "\n",
    "    # Create a [batch_size, projection_dim] tensor.\n",
    "    representation = layers.LayerNormalization(epsilon=1e-6)(encoded_patches)\n",
    "    representation = layers.Flatten()(representation)\n",
    "    representation = layers.Dropout(0.5)(representation)\n",
    "    # Add MLP.\n",
    "    features = mlp(representation, hidden_units=mlp_head_units, dropout_rate=0.5)\n",
    "    # Classify outputs.\n",
    "    logits = layers.Dense(num_classes)(features)\n",
    "    # Create the Keras model.\n",
    "    model = keras.Model(inputs=inputs, outputs=logits)\n",
    "    return model"
   ]
  },
  {
   "cell_type": "code",
   "execution_count": 11,
   "metadata": {
    "ExecuteTime": {
     "end_time": "2024-04-10T11:14:04.358540Z",
     "start_time": "2024-04-10T11:14:04.349070Z"
    },
    "id": "SqLRUuppb9RU"
   },
   "outputs": [],
   "source": [
    "def run_experiment(model):\n",
    "    optimizer = tfa.optimizers.AdamW(\n",
    "        learning_rate=learning_rate, weight_decay=weight_decay\n",
    "    )\n",
    "\n",
    "    model.compile(\n",
    "        optimizer=optimizer,\n",
    "        loss=keras.losses.SparseCategoricalCrossentropy(from_logits=True),\n",
    "        metrics=[\n",
    "            keras.metrics.SparseCategoricalAccuracy(name=\"accuracy\"),\n",
    "            keras.metrics.SparseTopKCategoricalAccuracy(5, name=\"top-5-accuracy\"),\n",
    "        ],\n",
    "    )\n",
    "\n",
    "    checkpoint_filepath = \"Users\\BONNIE-PC\\Downloads\\ViTN\"\n",
    "    checkpoint_callback = keras.callbacks.ModelCheckpoint(\n",
    "        checkpoint_filepath,\n",
    "        monitor=\"val_accuracy\",\n",
    "        save_best_only=True,\n",
    "        save_weights_only=True,\n",
    "    )\n",
    "\n",
    "    history = model.fit(\n",
    "        x=x_train,\n",
    "        y=y_train,\n",
    "        batch_size=batch_size,\n",
    "        epochs=num_epochs,\n",
    "        validation_split=0.1,\n",
    "        callbacks=[checkpoint_callback],\n",
    "    )\n",
    "\n",
    "    model.load_weights(checkpoint_filepath)\n",
    "    _, accuracy, top_5_accuracy = model.evaluate(x_test, y_test)\n",
    "    print(f\"Test accuracy: {round(accuracy * 100, 2)}%\")\n",
    "    print(f\"Test top 5 accuracy: {round(top_5_accuracy * 100, 2)}%\")"
   ]
  },
  {
   "cell_type": "code",
   "execution_count": 12,
   "metadata": {
    "colab": {
     "base_uri": "https://localhost:8080/"
    },
    "id": "oaQ0djVYcI1F",
    "outputId": "a718e78c-1cdc-4f58-9be0-6c7e5cbe8a03"
   },
   "outputs": [
    {
     "name": "stdout",
     "output_type": "stream",
     "text": [
      "Epoch 1/20\n",
      "WARNING:tensorflow:From C:\\Users\\BONNIE-PC\\AppData\\Local\\Programs\\Python\\Python311\\Lib\\site-packages\\keras\\src\\utils\\tf_utils.py:492: The name tf.ragged.RaggedTensorValue is deprecated. Please use tf.compat.v1.ragged.RaggedTensorValue instead.\n",
      "\n",
      "176/176 [==============================] - 270s 2s/step - loss: 2.0127 - accuracy: 0.3195 - top-5-accuracy: 0.8127 - val_loss: 1.5065 - val_accuracy: 0.4644 - val_top-5-accuracy: 0.9100\n",
      "Epoch 2/20\n",
      "176/176 [==============================] - 271s 2s/step - loss: 1.5591 - accuracy: 0.4385 - top-5-accuracy: 0.8992 - val_loss: 1.2678 - val_accuracy: 0.5402 - val_top-5-accuracy: 0.9454\n",
      "Epoch 3/20\n",
      "176/176 [==============================] - 266s 2s/step - loss: 1.4092 - accuracy: 0.4954 - top-5-accuracy: 0.9218 - val_loss: 1.1698 - val_accuracy: 0.5830 - val_top-5-accuracy: 0.9544\n",
      "Epoch 4/20\n",
      "176/176 [==============================] - 255s 1s/step - loss: 1.3090 - accuracy: 0.5364 - top-5-accuracy: 0.9347 - val_loss: 1.0985 - val_accuracy: 0.6110 - val_top-5-accuracy: 0.9632\n",
      "Epoch 5/20\n",
      "176/176 [==============================] - 267s 2s/step - loss: 1.2303 - accuracy: 0.5666 - top-5-accuracy: 0.9440 - val_loss: 1.0087 - val_accuracy: 0.6452 - val_top-5-accuracy: 0.9690\n",
      "Epoch 6/20\n",
      "176/176 [==============================] - 265s 2s/step - loss: 1.1687 - accuracy: 0.5866 - top-5-accuracy: 0.9515 - val_loss: 0.9757 - val_accuracy: 0.6574 - val_top-5-accuracy: 0.9736\n",
      "Epoch 7/20\n",
      "176/176 [==============================] - 266s 2s/step - loss: 1.1301 - accuracy: 0.6054 - top-5-accuracy: 0.9560 - val_loss: 0.9341 - val_accuracy: 0.6794 - val_top-5-accuracy: 0.9744\n",
      "Epoch 8/20\n",
      "176/176 [==============================] - 254s 1s/step - loss: 1.0905 - accuracy: 0.6191 - top-5-accuracy: 0.9576 - val_loss: 0.9178 - val_accuracy: 0.6802 - val_top-5-accuracy: 0.9778\n",
      "Epoch 9/20\n",
      "176/176 [==============================] - 263s 1s/step - loss: 1.0369 - accuracy: 0.6371 - top-5-accuracy: 0.9633 - val_loss: 0.8831 - val_accuracy: 0.6908 - val_top-5-accuracy: 0.9778\n",
      "Epoch 10/20\n",
      "176/176 [==============================] - 268s 2s/step - loss: 1.0073 - accuracy: 0.6461 - top-5-accuracy: 0.9656 - val_loss: 0.8556 - val_accuracy: 0.7006 - val_top-5-accuracy: 0.9798\n",
      "Epoch 11/20\n",
      "176/176 [==============================] - 266s 2s/step - loss: 0.9673 - accuracy: 0.6626 - top-5-accuracy: 0.9681 - val_loss: 0.8086 - val_accuracy: 0.7200 - val_top-5-accuracy: 0.9802\n",
      "Epoch 12/20\n",
      "176/176 [==============================] - 258s 1s/step - loss: 0.9346 - accuracy: 0.6737 - top-5-accuracy: 0.9694 - val_loss: 0.7876 - val_accuracy: 0.7260 - val_top-5-accuracy: 0.9816\n",
      "Epoch 13/20\n",
      "176/176 [==============================] - 254s 1s/step - loss: 0.8975 - accuracy: 0.6868 - top-5-accuracy: 0.9727 - val_loss: 0.7666 - val_accuracy: 0.7330 - val_top-5-accuracy: 0.9836\n",
      "Epoch 14/20\n",
      "176/176 [==============================] - 254s 1s/step - loss: 0.8792 - accuracy: 0.6961 - top-5-accuracy: 0.9749 - val_loss: 0.7505 - val_accuracy: 0.7354 - val_top-5-accuracy: 0.9836\n",
      "Epoch 15/20\n",
      "176/176 [==============================] - 259s 1s/step - loss: 0.8504 - accuracy: 0.7025 - top-5-accuracy: 0.9769 - val_loss: 0.7488 - val_accuracy: 0.7374 - val_top-5-accuracy: 0.9836\n",
      "Epoch 16/20\n",
      "176/176 [==============================] - 268s 2s/step - loss: 0.8227 - accuracy: 0.7142 - top-5-accuracy: 0.9770 - val_loss: 0.7046 - val_accuracy: 0.7496 - val_top-5-accuracy: 0.9852\n",
      "Epoch 17/20\n",
      "176/176 [==============================] - 265s 2s/step - loss: 0.8025 - accuracy: 0.7189 - top-5-accuracy: 0.9792 - val_loss: 0.6830 - val_accuracy: 0.7592 - val_top-5-accuracy: 0.9872\n",
      "Epoch 18/20\n",
      "176/176 [==============================] - 273s 2s/step - loss: 0.7787 - accuracy: 0.7281 - top-5-accuracy: 0.9799 - val_loss: 0.6800 - val_accuracy: 0.7656 - val_top-5-accuracy: 0.9852\n",
      "Epoch 19/20\n",
      "176/176 [==============================] - 263s 1s/step - loss: 0.7659 - accuracy: 0.7318 - top-5-accuracy: 0.9812 - val_loss: 0.6715 - val_accuracy: 0.7670 - val_top-5-accuracy: 0.9860\n",
      "Epoch 20/20\n",
      "176/176 [==============================] - 262s 1s/step - loss: 0.7420 - accuracy: 0.7401 - top-5-accuracy: 0.9826 - val_loss: 0.6996 - val_accuracy: 0.7578 - val_top-5-accuracy: 0.9868\n",
      "WARNING:tensorflow:From C:\\Users\\BONNIE-PC\\AppData\\Local\\Programs\\Python\\Python311\\Lib\\site-packages\\keras\\src\\saving\\legacy\\save.py:538: The name tf.train.NewCheckpointReader is deprecated. Please use tf.compat.v1.train.NewCheckpointReader instead.\n",
      "\n",
      "313/313 [==============================] - 16s 50ms/step - loss: 0.6845 - accuracy: 0.7609 - top-5-accuracy: 0.9856\n",
      "Test accuracy: 76.09%\n",
      "Test top 5 accuracy: 98.56%\n"
     ]
    }
   ],
   "source": [
    "vit_classifier = create_vit_classifier()\n",
    "run_experiment(vit_classifier)"
   ]
  },
  {
   "cell_type": "code",
   "execution_count": 13,
   "metadata": {
    "id": "C6uHeTQQyin_",
    "jupyter": {
     "is_executing": true
    }
   },
   "outputs": [],
   "source": [
    "class_names = [\n",
    "    \"airplane\",\n",
    "    \"automobile\",\n",
    "    \"bird\",\n",
    "    \"cat\",\n",
    "    \"deer\",\n",
    "    \"dog\",\n",
    "    \"frog\",\n",
    "    \"horse\",\n",
    "    \"ship\",\n",
    "    \"truck\",\n",
    "]"
   ]
  },
  {
   "cell_type": "code",
   "execution_count": 14,
   "metadata": {
    "id": "kX6rV95hyjkM",
    "jupyter": {
     "is_executing": true
    }
   },
   "outputs": [],
   "source": [
    "def img_predict(image, model):\n",
    "\n",
    "    if len(image.shape) == 3:\n",
    "        out = model.predict(image.reshape(1, *image.shape))\n",
    "    else:\n",
    "        out = model.predict(image)\n",
    "    prediction = np.argmax(out, axis=1)\n",
    "    img_prediction = [class_names[i] for i in prediction]\n",
    "    return img_prediction"
   ]
  },
  {
   "cell_type": "code",
   "execution_count": 15,
   "metadata": {
    "id": "ODDehMopynYA",
    "jupyter": {
     "is_executing": true
    }
   },
   "outputs": [
    {
     "name": "stdout",
     "output_type": "stream",
     "text": [
      "1/1 [==============================] - 1s 683ms/step\n",
      "Model prediction: ['truck']\n"
     ]
    },
    {
     "data": {
      "image/png": "[encoded data removed]",
      "text/plain": [
       "<Figure size 640x480 with 1 Axes>"
      ]
     },
     "metadata": {},
     "output_type": "display_data"
    }
   ],
   "source": [
    "index = 14\n",
    "plt.imshow(x_test[index])\n",
    "prediction = img_predict(x_test[index], vit_classifier)\n",
    "print(f\"Model prediction: {prediction}\")"
   ]
  }
 ],
 "metadata": {
  "colab": {
   "provenance": []
  },
  "kernelspec": {
   "display_name": "Python 3 (ipykernel)",
   "language": "python",
   "name": "python3"
  },
  "language_info": {
   "codemirror_mode": {
    "name": "ipython",
    "version": 3
   },
   "file_extension": ".py",
   "mimetype": "text/x-python",
   "name": "python",
   "nbconvert_exporter": "python",
   "pygments_lexer": "ipython3",
   "version": "3.11.7"
  }
 },
 "nbformat": 4,
 "nbformat_minor": 4
}
